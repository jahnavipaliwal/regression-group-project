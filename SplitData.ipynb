{
 "cells": [
  {
   "cell_type": "code",
   "execution_count": 1,
   "id": "2c68173d-6e88-4f32-8f35-65eeb6e96edd",
   "metadata": {},
   "outputs": [
    {
     "name": "stdout",
     "output_type": "stream",
     "text": [
      "Files successfully saved in 'train', 'validation', and 'test' folders.\n"
     ]
    }
   ],
   "source": [
    "import pandas as pd\n",
    "import os\n",
    "\n",
    "# Step 1: Load the CSV file\n",
    "df = pd.read_csv('shots.csv')\n",
    "\n",
    "# Step 2: Determine the split sizes (80%, 10%, 10%)\n",
    "train_ratio = 0.7\n",
    "validation_ratio = 0.1\n",
    "test_ratio = 0.2\n",
    "\n",
    "# Step 3: Calculate the indices for splitting\n",
    "n = len(df)\n",
    "train_end = int(train_ratio * n)\n",
    "validation_end = int((train_ratio + validation_ratio) * n)\n",
    "\n",
    "# Step 4: Split the data sequentially\n",
    "train_df = df.iloc[:train_end]\n",
    "validation_df = df.iloc[train_end:validation_end]\n",
    "test_df = df.iloc[validation_end:]\n",
    "\n",
    "# Step 5: Create directories for train, validation, and test sets\n",
    "os.makedirs('train', exist_ok=True)\n",
    "os.makedirs('validation', exist_ok=True)\n",
    "os.makedirs('test', exist_ok=True)\n",
    "\n",
    "# Step 6: Save the splits to the corresponding folders\n",
    "train_df.to_csv('train/shots.csv', index=False)\n",
    "validation_df.to_csv('validation/shots.csv', index=False)\n",
    "test_df.to_csv('test/shots.csv', index=False)\n",
    "\n",
    "print(\"Files successfully saved in 'train', 'validation', and 'test' folders.\")\n"
   ]
  },
  {
   "cell_type": "code",
   "execution_count": 4,
   "id": "61ba6077-e0ce-434f-9967-60bbe8894f5d",
   "metadata": {},
   "outputs": [
    {
     "name": "stdout",
     "output_type": "stream",
     "text": [
      "(324543, 11)\n",
      "(227180, 11)\n",
      "(32454, 11)\n",
      "(64909, 11)\n"
     ]
    }
   ],
   "source": [
    "df = pd.read_csv(\"shots.csv\")\n",
    "df_train = pd.read_csv(\"train/shots.csv\")\n",
    "df_validation = pd.read_csv(\"validation/shots.csv\")\n",
    "df_test = pd.read_csv(\"test/shots.csv\")\n",
    "print(df.shape)\n",
    "print(df_train.shape)\n",
    "print(df_validation.shape)\n",
    "print(df_test.shape)"
   ]
  },
  {
   "cell_type": "code",
   "execution_count": 5,
   "id": "6b3e8f56-d991-4699-b916-a39b748eca8c",
   "metadata": {},
   "outputs": [
    {
     "data": {
      "text/plain": [
       "324543"
      ]
     },
     "execution_count": 5,
     "metadata": {},
     "output_type": "execute_result"
    }
   ],
   "source": [
    "len(df_validation) + len(df_train) + len(df_test)"
   ]
  }
 ],
 "metadata": {
  "kernelspec": {
   "display_name": "Python 3 (ipykernel)",
   "language": "python",
   "name": "python3"
  },
  "language_info": {
   "codemirror_mode": {
    "name": "ipython",
    "version": 3
   },
   "file_extension": ".py",
   "mimetype": "text/x-python",
   "name": "python",
   "nbconvert_exporter": "python",
   "pygments_lexer": "ipython3",
   "version": "3.12.4"
  }
 },
 "nbformat": 4,
 "nbformat_minor": 5
}
