{
 "cells": [
  {
   "cell_type": "code",
   "execution_count": 18,
   "id": "29b33b4a-1dad-49e0-8c5b-1531e501aa72",
   "metadata": {},
   "outputs": [],
   "source": [
    "import numpy as np\n",
    "import pandas as pd\n",
    "import matplotlib.pyplot as plt"
   ]
  },
  {
   "cell_type": "code",
   "execution_count": 9,
   "id": "06b3b8cf-0867-4eb4-9963-1556901b19e0",
   "metadata": {},
   "outputs": [],
   "source": [
    "def calculate_accuracy(y_true, y_pred):\n",
    "    assert len(y_true) == len(y_pred), \"Length of true labels and predictions must be the same.\"\n",
    "    correct_predictions = sum(y_t == y_p for y_t, y_p in zip(y_true, y_pred))\n",
    "    accuracy = (correct_predictions / len(y_true))*100\n",
    "    print(f\"Accuracy: {accuracy:.2f}%\")\n",
    "    return accuracy\n"
   ]
  },
  {
   "cell_type": "code",
   "execution_count": 10,
   "id": "d6d978d9-e671-4368-9328-0e9c934604cd",
   "metadata": {},
   "outputs": [],
   "source": [
    "def calculate_model_accuracy(model, x_values, y_true):\n",
    "    y_pred = model.predict(x_values)\n",
    "    return calculate_accuracy(y_true, y_pred)"
   ]
  },
  {
   "cell_type": "code",
   "execution_count": 11,
   "id": "fe7375df-f504-4979-a3de-a52fe0141499",
   "metadata": {},
   "outputs": [],
   "source": [
    "def calculate_dataset_accuracy(dataset, model, x_columns, y_col):\n",
    "    x_val = dataset[x_columns]\n",
    "    y_val = dataset[y_col]\n",
    "    return calculate_model_accuracy(model, x_val, y_val)"
   ]
  },
  {
   "cell_type": "code",
   "execution_count": 16,
   "id": "9bbb1d28-9428-474c-9b37-8ad248a3d43d",
   "metadata": {},
   "outputs": [
    {
     "name": "stdout",
     "output_type": "stream",
     "text": [
      "Validation dataset accuracy is\n"
     ]
    }
   ],
   "source": [
    "#Calculate accuracy on validation set\n",
    "validation_data = pd.read_csv('data/validation/shots.csv')\n",
    "print(\"Validation dataset accuracy is\")\n",
    "\n",
    "#calculate_dataset_accuracy(validation_data, model, x_columns, y_col)"
   ]
  },
  {
   "cell_type": "code",
   "execution_count": 17,
   "id": "ba9f2f63-afbb-4264-8783-8f2e1e183314",
   "metadata": {},
   "outputs": [
    {
     "name": "stdout",
     "output_type": "stream",
     "text": [
      "Test dataset accuracy is\n"
     ]
    }
   ],
   "source": [
    "#Calculate accuracy on test dataset\n",
    "test_data = pd.read_csv('data/test/shots.csv')\n",
    "print(\"Test dataset accuracy is\")\n",
    "\n",
    "#calculate_dataset_accuracy(test_data, model, x_columns, y_col)"
   ]
  },
  {
   "cell_type": "code",
   "execution_count": 20,
   "id": "54770415-edac-4a65-8cbc-391790fe29a8",
   "metadata": {},
   "outputs": [],
   "source": [
    "#Sample graph for actual vs predicted\n",
    "\n",
    "def plot_actual_vs_predicted(x_val, y_val):\n",
    "    plt.figure(figsize=(10, 6))\n",
    "    plt.plot(y_val.values, label='Actual', marker='o', linestyle='-', color='blue')\n",
    "    plt.plot(y_val_pred, label='Predicted', marker='x', linestyle='--', color='red')\n",
    "    x_range = np.arange(len(y_val))  # Range of the x-values (sample indices)\n",
    "    y_45_deg = x_range * (1 / max(x_range))  # y = x to create the 45-degree line\n",
    "    plt.plot(x_range, y_45_deg, label='45-degree line', linestyle='-', color='green')\n",
    "    plt.title('Actual vs Predicted Values')\n",
    "    plt.xlabel('Actual')\n",
    "    plt.ylabel('Predicted')\n",
    "    plt.legend(loc='upper right')\n",
    "    plt.show()"
   ]
  },
  {
   "cell_type": "code",
   "execution_count": null,
   "id": "be6c697a-16f5-4630-9667-b50436572ed6",
   "metadata": {},
   "outputs": [],
   "source": []
  }
 ],
 "metadata": {
  "kernelspec": {
   "display_name": "Python 3 (ipykernel)",
   "language": "python",
   "name": "python3"
  },
  "language_info": {
   "codemirror_mode": {
    "name": "ipython",
    "version": 3
   },
   "file_extension": ".py",
   "mimetype": "text/x-python",
   "name": "python",
   "nbconvert_exporter": "python",
   "pygments_lexer": "ipython3",
   "version": "3.12.4"
  }
 },
 "nbformat": 4,
 "nbformat_minor": 5
}
